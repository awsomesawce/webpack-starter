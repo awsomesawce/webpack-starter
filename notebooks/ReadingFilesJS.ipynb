{
 "cells": [
  {
   "cell_type": "markdown",
   "id": "7151867c-ca0d-47dd-bcc0-3979a4b75854",
   "metadata": {},
   "source": [
    "# Parsing JS Objects into json5 and yaml\n",
    "\n",
    "It's a beautiful thing."
   ]
  },
  {
   "cell_type": "code",
   "execution_count": 4,
   "id": "0a59dbbe-ca56-443c-ae94-581b715864fa",
   "metadata": {},
   "outputs": [
    {
     "name": "stdout",
     "output_type": "stream",
     "text": [
      "Writing json5String to c:\\Users\\Carl\\gitstuff\\experimental\\webpack-starter\\data\\parsedJson.json5\n",
      "No errors\n",
      "{version:'{build}-{branch}',branches:{except:['gh-pages']},build:'off',deploy:'off',clone_depth:2,image:'Visual Studio 2019',environment:{scoop:'C:\\\\projects\\\\scoop',scoop_home:'C:\\\\projects\\\\scoop',scoop_helpers:'C:\\\\projects\\\\helpers',lessmsi:'%scoop_helpers%\\\\lessmsi\\\\lessmsi.exe',innounp:'%scoop_helpers%\\\\innounp\\\\innounp.exe',matrix:[{PowerShell:5},{PowerShell:'Current'}]},cache:['%USERPROFILE%\\\\Documents\\\\WindowsPowerShell\\\\Modules -> appveyor.yml','C:\\\\projects\\\\helpers  -> appveyor.yml, test\\\\bin\\\\*.ps1'],matrix:{fast_finish:true},init:[{ps:'if(!(Test-Path \"$env:SCOOP\")) { git clone -q --depth=1 \"https://github.com/ScoopInstaller/Scoop\" \"$env:SCOOP\" }'}],for:[{matrix:{only:[{PowerShell:5}]},install:[{ps:'. \"$env:SCOOP_HOME\\\\test\\\\bin\\\\init.ps1\"'}],test_script:[{ps:'. \"$env:SCOOP_HOME\\\\test\\\\bin\\\\test.ps1\" -TestPath \"$env:APPVEYOR_BUILD_FOLDER\"'}]},{matrix:{only:[{PowerShell:'Current'}]},install:[{pwsh:'. \"$env:SCOOP_HOME\\\\test\\\\bin\\\\init.ps1\"'}],test_script:[{pwsh:'. \"$env:SCOOP_HOME\\\\test\\\\bin\\\\test.ps1\" -TestPath \"$env:APPVEYOR_BUILD_FOLDER\"'}]}]}\n"
     ]
    }
   ],
   "source": [
    "// Get a yaml file from the system, parse it, convert it to various file types.\n",
    "\n",
    "const fs = require('fs');\n",
    "const path = require('path');\n",
    "const yaml = require('js-yaml');\n",
    "const json5 = require('json5');\n",
    "\n",
    "const os = require('os')\n",
    "\n",
    "const myPath = `${process.env.USERPROFILE}\\\\scoop\\\\buckets\\\\main`\n",
    "const fileOne = `${myPath}\\\\appveyor.yml`\n",
    "/* Not working\n",
    "const result = fs.readFile(fileOne, 'utf-8', (err, data) => {\n",
    "    if (err) {console.error(err)}\n",
    "    return data\n",
    "})\n",
    "*/\n",
    "const fileText = fs.readFileSync(fileOne).toLocaleString()\n",
    "\n",
    "const parsedYaml = yaml.load(fileText)\n",
    "const json5String = json5.stringify(parsedYaml)\n",
    "/**\n",
    " * Now to write stringified object to a file\n",
    " */\n",
    "function writeToFile () {\n",
    "    let dirName = path.resolve(\"..\\\\data\")\n",
    "    let fileName = path.resolve(`${dirName}\\\\parsedJson.json5`)\n",
    "    if (json5String) {\n",
    "        console.log(`Writing json5String to ${fileName}`)\n",
    "        fs.writeFileSync(`${fileName}`, json5String);\n",
    "    } else {\n",
    "        console.error(\"No json5String\");\n",
    "        return 1\n",
    "    }\n",
    "    return 0\n",
    "}\n",
    "(writeToFile() === 0) ? (console.log('No errors')) : (console.log('There was an error'));\n",
    "(console.log(json5String));\n",
    "\n",
    "//console.log(json5String)"
   ]
  },
  {
   "cell_type": "markdown",
   "id": "3efab72c",
   "metadata": {},
   "source": [
    "# Now for parsing my environment into a json file"
   ]
  },
  {
   "cell_type": "code",
   "execution_count": 15,
   "id": "f425eff1",
   "metadata": {},
   "outputs": [
    {
     "name": "stderr",
     "output_type": "stream",
     "text": [
      "node:internal/fs/utils:344\n",
      "    throw err;\n",
      "    ^\n",
      "\n",
      "Error: ENOENT: no such file or directory, stat 'fyal.yml'\n",
      "    at Object.statSync (node:fs:1536:3)\n",
      "    at __node_internal_ (node:internal/fs/utils:793:8)\n",
      "    at Object.rmSync (node:fs:1211:13)\n",
      "    at evalmachine.<anonymous>:8:25\n",
      "    at evalmachine.<anonymous>:10:3\n",
      "    at sigintHandlersWrap (node:vm:268:12)\n",
      "    at Script.runInThisContext (node:vm:127:14)\n",
      "    at Object.runInThisContext (node:vm:305:38)\n",
      "    at Object.execute (C:\\Users\\Carl\\AppData\\Roaming\\npm\\node_modules\\tslab\\dist\\executor.js:162:38)\n",
      "    at JupyterHandlerImpl.handleExecuteImpl (C:\\Users\\Carl\\AppData\\Roaming\\npm\\node_modules\\tslab\\dist\\jupyter.js:219:38) {\n",
      "  errno: -4058,\n",
      "  syscall: 'stat',\n",
      "  code: 'ENOENT',\n",
      "  path: 'fyal.yml'\n",
      "}\n"
     ]
    }
   ],
   "source": [
    "const fs = require('fs');\n",
    "const yaml = require('js-yaml');\n",
    "\n",
    "fs.writeFileSync('../data/fyal.yml', yaml.dump(process.env))\n",
    "if (fs.existsSync(\"fyal.yml\"){\n",
    "    fs.rmSync(\"fyal.yml\"); //If it is there, then rm  it...\n",
    "} else {\n",
    "    console.log($null);\n",
    "    console.dirxml()\n",
    "}"
   ]
  }
 ],
 "metadata": {
  "kernelspec": {
   "display_name": "JavaScript",
   "language": "javascript",
   "name": "jslab"
  },
  "language_info": {
   "file_extension": ".js",
   "mimetype": "text/javascript",
   "name": "javascript",
   "version": ""
  }
 },
 "nbformat": 4,
 "nbformat_minor": 5
}
