{
 "cells": [
  {
   "cell_type": "markdown",
   "id": "7151867c-ca0d-47dd-bcc0-3979a4b75854",
   "metadata": {},
   "source": [
    "# Parsing JS Objects into json5 and yaml\n",
    "\n",
    "It's a beautiful thing."
   ]
  },
  {
   "cell_type": "code",
   "execution_count": null,
   "id": "0a59dbbe-ca56-443c-ae94-581b715864fa",
   "metadata": {},
   "outputs": [],
   "source": [
    "// Get a yaml file from the system, parse it, convert it to various file types.\n",
    "\n",
    "const fs = require('fs');\n",
    "const path = require('path');\n",
    "const yaml = require('js-yaml');\n",
    "const json5 = require('json5');\n",
    "\n",
    "const os = require('os')\n",
    "\n",
    "const myPath = `${process.env.USERPROFILE}\\\\scoop\\\\buckets\\\\main`\n",
    "const fileOne = `${myPath}\\\\appveyor.yml`\n",
    "/* Not working\n",
    "const result = fs.readFile(fileOne, 'utf-8', (err, data) => {\n",
    "    if (err) {console.error(err)}\n",
    "    return data\n",
    "})\n",
    "*/\n",
    "const fileText = fs.readFileSync(fileOne).toLocaleString()\n",
    "\n",
    "const parsedYaml = yaml.load(fileText)\n",
    "const json5String = json5.stringify(parsedYaml)\n",
    "/**\n",
    " * Now to write stringified object to a file\n",
    " */\n",
    "function writeToFile () {\n",
    "    let dirName = path.resolve(\"..\\\\data\")\n",
    "    let fileName = path.resolve(`${dirName}\\\\parsedJson.json5`)\n",
    "    if (json5String) {\n",
    "        console.log(`Writing json5String to ${fileName}`)\n",
    "        fs.writeFileSync(`${fileName}`, json5String);\n",
    "    } else {\n",
    "        console.error(\"No json5String\");\n",
    "        return 1\n",
    "    }\n",
    "    return 0\n",
    "}\n",
    "(writeToFile() === 0) ? (console.log('No errors')) : (console.log('There was an error'));\n",
    "\n",
    "//console.log(json5String)"
   ]
  }
 ],
 "metadata": {
  "kernelspec": {
   "display_name": "JavaScript",
   "language": "javascript",
   "name": "jslab"
  },
  "language_info": {
   "file_extension": ".js",
   "mimetype": "text/javascript",
   "name": "javascript",
   "version": ""
  }
 },
 "nbformat": 4,
 "nbformat_minor": 5
}
