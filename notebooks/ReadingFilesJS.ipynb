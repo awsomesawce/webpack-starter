{
 "cells": [
  {
   "cell_type": "code",
   "execution_count": null,
   "id": "6b1f0b34-318f-459d-973b-244aa4c6f82d",
   "metadata": {},
   "outputs": [],
   "source": [
    "const fs = require('fs');\n",
    "const path = require('path');\n",
    "const yaml = require('js-yaml');\n",
    "const json5 = require('json5');\n",
    "\n"
   ]
  }
 ],
 "metadata": {
  "kernelspec": {
   "display_name": "JavaScript",
   "language": "javascript",
   "name": "jslab"
  },
  "language_info": {
   "file_extension": ".js",
   "mimetype": "text/javascript",
   "name": "javascript",
   "version": ""
  }
 },
 "nbformat": 4,
 "nbformat_minor": 5
}
